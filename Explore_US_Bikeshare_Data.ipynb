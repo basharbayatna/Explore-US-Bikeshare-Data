{
  "nbformat": 4,
  "nbformat_minor": 0,
  "metadata": {
    "colab": {
      "provenance": []
    },
    "kernelspec": {
      "name": "python3",
      "display_name": "Python 3"
    },
    "language_info": {
      "name": "python"
    }
  },
  "cells": [
    {
      "cell_type": "code",
      "execution_count": null,
      "metadata": {
        "id": "IIeyXOBc_fHb"
      },
      "outputs": [],
      "source": [
        "import pandas as pd\n",
        "import numpy as np\n",
        "import time\n",
        "import calendar as cal\n"
      ]
    },
    {
      "cell_type": "code",
      "source": [
        "df_ch = pd.read_csv('/content/chicago.csv')"
      ],
      "metadata": {
        "id": "y7fpBwQiE2Q1"
      },
      "execution_count": null,
      "outputs": []
    },
    {
      "cell_type": "code",
      "source": [
        "df_ch.head()"
      ],
      "metadata": {
        "id": "d_oSYL9bFOKo"
      },
      "execution_count": null,
      "outputs": []
    },
    {
      "cell_type": "code",
      "source": [
        "df_ch.info()"
      ],
      "metadata": {
        "id": "GRqdZ6NVE-V0"
      },
      "execution_count": null,
      "outputs": []
    },
    {
      "cell_type": "code",
      "source": [
        "df_ch.duplicated(keep=False).sum()"
      ],
      "metadata": {
        "id": "pofextcuFGKD"
      },
      "execution_count": null,
      "outputs": []
    },
    {
      "cell_type": "code",
      "source": [
        "df_ch.isna().sum()"
      ],
      "metadata": {
        "id": "sGrgKaVYFBSJ"
      },
      "execution_count": null,
      "outputs": []
    },
    {
      "cell_type": "code",
      "source": [
        "df_ny = pd.read_csv('/content/new_york_city.csv')"
      ],
      "metadata": {
        "id": "V3gMfoTHFZf9"
      },
      "execution_count": null,
      "outputs": []
    },
    {
      "cell_type": "code",
      "source": [
        "df_ny.head()"
      ],
      "metadata": {
        "id": "i1T0rjICFerf"
      },
      "execution_count": null,
      "outputs": []
    },
    {
      "cell_type": "code",
      "source": [
        "df_ny.duplicated().sum()"
      ],
      "metadata": {
        "id": "C6AuvR5cFhKj"
      },
      "execution_count": null,
      "outputs": []
    },
    {
      "cell_type": "code",
      "source": [
        "df_ny.isna().sum()"
      ],
      "metadata": {
        "id": "ey3s0C1KFlBy"
      },
      "execution_count": null,
      "outputs": []
    },
    {
      "cell_type": "code",
      "source": [
        "df_wa = pd.read_csv('/content/washington.csv')"
      ],
      "metadata": {
        "id": "5W9vPAJAFqEO"
      },
      "execution_count": null,
      "outputs": []
    },
    {
      "cell_type": "code",
      "source": [
        "CITY_DATA = { 'chicago': 'chicago.csv',\n",
        "              'new york city': 'new_york_city.csv',\n",
        "              'washington': 'washington.csv' }\n"
      ],
      "metadata": {
        "id": "tH0c9rDpAO-d"
      },
      "execution_count": null,
      "outputs": []
    },
    {
      "cell_type": "code",
      "source": [
        "def get_filters():\n",
        "    print(\"Welcome! Let's start exploring some US bikeshare data!\\n\")\n",
        "\n",
        "    # Menu options\n",
        "    cities = ['chicago', 'new york city', 'washington']\n",
        "    months = ['january', 'february', 'march', 'april', 'may', 'june', 'all']\n",
        "    days = ['monday', 'tuesday', 'wednesday', 'thursday', 'friday', 'saturday', 'sunday', 'all']\n",
        "\n",
        "    # Select city\n",
        "    print(\"Choose a city:\")\n",
        "    for i, c in enumerate(cities, 1):\n",
        "        print(f\"{i}. {c.title()}\")\n",
        "    city = cities[int(input(\"\\nEnter number: \")) - 1]\n",
        "\n",
        "    # Select month\n",
        "    print(\"\\nChoose a month:\")\n",
        "    for i, m in enumerate(months, 1):\n",
        "        print(f\"{i}. {m.title()}\")\n",
        "    month = months[int(input(\"\\nEnter number: \")) - 1]\n",
        "\n",
        "    # Select day\n",
        "    print(\"\\nChoose a day:\")\n",
        "    for i, d in enumerate(days, 1):\n",
        "        print(f\"{i}. {d.title()}\")\n",
        "    day = days[int(input(\"\\nEnter number: \")) - 1]\n",
        "\n",
        "    print('-'*40)\n",
        "    return city, month, day\n"
      ],
      "metadata": {
        "id": "GuJXhgq6GJJG"
      },
      "execution_count": null,
      "outputs": []
    },
    {
      "cell_type": "code",
      "source": [
        "def get_filters():\n",
        "    print(\"Welcome! Let's start exploring some US bikeshare data!\\n\")\n",
        "\n",
        "    # Menu options\n",
        "    cities = ['chicago', 'new york city', 'washington']\n",
        "    months = ['january', 'february', 'march', 'april', 'may', 'june', 'all']\n",
        "    days = ['monday', 'tuesday', 'wednesday', 'thursday', 'friday', 'saturday', 'sunday', 'all']\n",
        "\n",
        "    # Helper function to get valid input\n",
        "    def select_option(options, prompt):\n",
        "        while True:\n",
        "            for i, option in enumerate(options, 1):\n",
        "                print(f\"{i}. {option.title()}\")\n",
        "            choice = input(prompt).strip()\n",
        "            if choice.isdigit():\n",
        "                index = int(choice) - 1\n",
        "                if 0 <= index < len(options):\n",
        "                    return options[index]\n",
        "            print(f\"Invalid input. Please enter a number between 1 and {len(options)}.\\n\")\n",
        "\n",
        "    print(\"Choose a city:\")\n",
        "    city = select_option(cities, \"Enter number: \")\n",
        "\n",
        "    print(\"\\nChoose a month:\")\n",
        "    month = select_option(months, \"Enter number: \")\n",
        "\n",
        "    print(\"\\nChoose a day:\")\n",
        "    day = select_option(days, \"Enter number: \")\n",
        "\n",
        "    print('-'*40)\n",
        "    return city, month, day\n",
        "\n",
        "\n",
        "\n",
        "\n",
        "def load_data(city, month, day):\n",
        "    \"\"\"\n",
        "    Loads data for the specified city and filters by month and day if applicable.\n",
        "\n",
        "    Args:\n",
        "        (str) city - name of the city to analyze\n",
        "        (str) month - name of the month to filter by, or \"all\" to apply no month filter\n",
        "        (str) day - name of the day of week to filter by, or \"all\" to apply no day filter\n",
        "    Returns:\n",
        "        df - Pandas DataFrame containing city data filtered by month and day\n",
        "    \"\"\"\n",
        "    df = pd.read_csv(CITY_DATA[city])\n",
        "\n",
        "\n",
        "    df['Start Time'] = pd.to_datetime(df['Start Time'])\n",
        "\n",
        "    df['Month'] = df['Start Time'].dt.month\n",
        "    df['Weekday'] = df['Start Time'].dt.weekday\n",
        "\n",
        "    if month != 'all':\n",
        "        months = ['january', 'february', 'march', 'april', 'may', 'june']\n",
        "        month = months.index(month) + 1\n",
        "        df = df[df['Month'] == month]\n",
        "\n",
        "    if day != 'all':\n",
        "        days = ['monday', 'tuesday', 'wednesday', 'thursday', 'friday', 'saturday', 'sunday']\n",
        "        day = days.index(day)\n",
        "        df = df[df['Weekday'] == day]\n",
        "\n",
        "    return df\n",
        "\n",
        "\n",
        "def time_stats(df, city, month, day):\n",
        "\n",
        "    print('\\nCalculating The Most Frequent Times of Travel...\\n')\n",
        "    start_time = time.time()\n",
        "\n",
        "\n",
        "    list(cal.month_name)\n",
        "\n",
        "    ind_month = df['Month'].value_counts().idxmax()\n",
        "\n",
        "    if month != 'all':\n",
        "        print('You have selected ',month.title(),', so, unsurprisingly, the most common '+\n",
        "              'month in',city.title(),'is', cal.month_name[ind_month], ';) \\n\\n')\n",
        "\n",
        "    else:\n",
        "        print('The most common month in ',city.title(),' is',\n",
        "              cal.month_name[ind_month], '.\\n\\n')\n",
        "\n",
        "\n",
        "\n",
        "    list(cal.day_name)\n",
        "\n",
        "    ind_day = df['Weekday'].value_counts().idxmax()\n",
        "\n",
        "    if day != 'all':\n",
        "        print('You have selected',day.title(),'so, unsurprisingly, the most common '+\n",
        "              'day of the week in',city.title(),'is', cal.day_name[ind_day], ';) \\n\\n')\n",
        "    else:\n",
        "        print('The most common day of the week is', cal.day_name[ind_day], '\\n\\n')\n",
        "\n",
        "\n",
        "\n",
        "    df['Start Hour'] = df['Start Time'].dt.hour\n",
        "\n",
        "    print('The most common start hour for your selection is',\n",
        "          df['Start Hour'].value_counts().idxmax(), 'o\\'clock.\\n')\n",
        "\n",
        "\n",
        "    print(\"\\nThis took %s seconds.\" % (time.time() - start_time))\n",
        "    print('-'*40)\n",
        "\n",
        "\n",
        "def station_stats(df):\n",
        "    \"\"\"Displays statistics on the most popular stations and trip.\"\"\"\n",
        "\n",
        "    print('\\nCalculating The Most Popular Stations and Trip...\\n')\n",
        "    start_time = time.time()\n",
        "\n",
        "    print('The most common start station for your selection is',\n",
        "          df['Start Station'].value_counts().idxmax(), '.\\n\\n')\n",
        "\n",
        "    print('The most common end station for your selection is',\n",
        "          df['End Station'].value_counts().idxmax(), '.\\n\\n')\n",
        "\n",
        "\n",
        "    df['Station Combination'] = df['Start Station'] + ' (start) and ' + df['End Station'] + ' (end).'\n",
        "\n",
        "    print('The most common station combination for your selection is ',\n",
        "          df['Station Combination'].value_counts().idxmax(), '\\n')\n",
        "\n",
        "\n",
        "    print(\"\\nThis took %s seconds.\" % (time.time() - start_time))\n",
        "    print('-'*40)\n",
        "\n",
        "\n",
        "def trip_duration_stats(df):\n",
        "    \"\"\"Displays statistics on the total and average trip duration.\"\"\"\n",
        "\n",
        "    print('\\nCalculating Trip Duration...\\n')\n",
        "    start_time = time.time()\n",
        "\n",
        "\n",
        "    trip_sum_sec = df['Trip Duration'].sum()\n",
        "\n",
        "    trip_sum_h = round(trip_sum_sec / 60 / 60 ,0)\n",
        "\n",
        "    print('The total travel time for your selection is', trip_sum_h, 'hours.\\n\\n')\n",
        "\n",
        "\n",
        "    trip_mean_sec = df['Trip Duration'].mean()\n",
        "\n",
        "    trip_mean_min = round(trip_mean_sec / 60  ,0)\n",
        "\n",
        "\n",
        "    if trip_mean_min < 60:\n",
        "        print('The mean travel time for your selection is', trip_mean_min, 'minutes.\\n\\n')\n",
        "    else:\n",
        "        trip_mean_h = round(trip_mean_min / 60 ,1)\n",
        "        print('The mean travel time for your selection is', trip_mean_h, 'hours.\\n\\n')\n",
        "\n",
        "\n",
        "    print(\"\\nThis took %s seconds.\" % (time.time() - start_time))\n",
        "    print('-'*40)\n",
        "\n",
        "\n",
        "def user_stats(df, city):\n",
        "    \"\"\"Displays statistics on bikeshare users. Statistics will be calculated using NumPy.\"\"\"\n",
        "\n",
        "    print('\\nCalculating User Stats...\\n')\n",
        "    start_time = time.time()\n",
        "\n",
        "\n",
        "    usertypes = df['User Type'].values\n",
        "\n",
        "    ct_subscriber  = (usertypes == 'Subscriber').sum()\n",
        "    ct_customer = (usertypes == 'Customer').sum()\n",
        "\n",
        "    print('The number of subscribers in', city.title(), 'is:',ct_subscriber,'\\n')\n",
        "    print('The number of customers in', city.title(), 'is:',ct_customer,'\\n')\n",
        "\n",
        "\n",
        "    if city.title() != 'Washington':\n",
        "\n",
        "        gender = df['Gender'].values\n",
        "\n",
        "        ct_male  = (gender == 'Male').sum()\n",
        "        ct_female = (gender == 'Female').sum()\n",
        "\n",
        "        print('The number of male users in', city.title(), 'is:',ct_male,'\\n')\n",
        "        print('The number of female users in', city.title(), 'is:',ct_female,'\\n')\n",
        "\n",
        "\n",
        "        birthyear = df['Birth Year'].values\n",
        "\n",
        "        birthyear_unique = np.unique(birthyear[~np.isnan(birthyear)])\n",
        "\n",
        "        latest_birthyear = birthyear_unique.max()\n",
        "\n",
        "        earliest_birthyear = birthyear_unique.min()\n",
        "\n",
        "        print('The most recent birth year of users in', city.title(), 'is:',\n",
        "              latest_birthyear ,'\\n')\n",
        "        print('The earliest birth year of users in', city.title(), 'is:',\n",
        "              earliest_birthyear,'\\n')\n",
        "\n",
        "        print('The most common birth year of users in', city.title(), 'is:',\n",
        "              df['Birth Year'].value_counts().idxmax(), '\\n')\n",
        "\n",
        "    else:\n",
        "        print('Sorry. Gender and birth year information are not available for Washington!')\n",
        "\n",
        "\n",
        "    print(\"\\nThis took %s seconds.\" % (time.time() - start_time))\n",
        "    print('-'*40)\n",
        "\n",
        "import sys\n",
        "\n",
        "def raw_data(df):\n",
        "    \"\"\"Displays 5 lines of raw data at a time based on menu choice.\"\"\"\n",
        "    i = 0\n",
        "    while True:\n",
        "        print(\"\\nWould you like to see 5 lines of raw data?\")\n",
        "        print(\"1. Yes, show next 5 rows\")\n",
        "        print(\"2. No, stop showing raw data\")\n",
        "        print(\"3. End program\")\n",
        "\n",
        "        choice = input(\"Enter number: \")\n",
        "\n",
        "        if choice == \"1\":\n",
        "            print(df[i:i+5])\n",
        "            i += 5\n",
        "            if i >= len(df):\n",
        "                print(\"\\nNo more data to display.\")\n",
        "                break\n",
        "        elif choice == \"2\":\n",
        "            break\n",
        "        elif choice == \"3\":\n",
        "            print(\"Thank you for using our program!\")\n",
        "            sys.exit()\n",
        "        else:\n",
        "            print(\"Invalid choice. Please enter 1, 2, or 3.\")\n",
        "\n",
        "\n",
        "def main():\n",
        "    while True:\n",
        "        city, month, day = get_filters()\n",
        "        df = load_data(city, month, day)\n",
        "\n",
        "        time_stats(df, city, month, day)\n",
        "        station_stats(df)\n",
        "        trip_duration_stats(df)\n",
        "        user_stats(df, city)\n",
        "\n",
        "        raw_data(df)\n",
        "\n",
        "        # Restart menu\n",
        "        while True:\n",
        "            print(\"\\nWould you like to restart?\")\n",
        "            print(\"1. Yes\")\n",
        "            print(\"2. No\")\n",
        "            print(\"3. End program\")\n",
        "            restart_choice = input(\"Enter number: \")\n",
        "\n",
        "            if restart_choice == \"1\":\n",
        "                break  # go back to start of main loop\n",
        "            elif restart_choice in (\"2\", \"3\"):\n",
        "                print(\"Thank you for using our program!\")\n",
        "                sys.exit()\n",
        "            else:\n",
        "                print(\"Invalid choice. Please enter 1, 2, or 3.\")\n",
        "\n",
        "if __name__ == \"__main__\": main()\n"
      ],
      "metadata": {
        "id": "9L13RxlkAR7I"
      },
      "execution_count": null,
      "outputs": []
    }
  ]
}